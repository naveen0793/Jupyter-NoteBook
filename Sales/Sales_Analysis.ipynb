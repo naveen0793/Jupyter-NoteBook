{
 "cells": [
  {
   "cell_type": "code",
   "execution_count": 1,
   "id": "092f8ddf",
   "metadata": {},
   "outputs": [],
   "source": [
    "import pandas as pd\n",
    "import numpy as np\n",
    "import seaborn as sns\n",
    "import os\n",
    "\n",
    "import matplotlib.pyplot as plt\n",
    "import matplotlib.mlab as mlab\n",
    "import matplotlib\n",
    "plt.style.use('ggplot')\n",
    "from matplotlib.pyplot import figure\n",
    "\n",
    "%matplotlib inline\n",
    "matplotlib.rcParams['figure.figsize'] = (12,8)\n",
    "pd.options.mode.chained_assignment = None"
   ]
  },
  {
   "cell_type": "code",
   "execution_count": 2,
   "id": "c8607556",
   "metadata": {},
   "outputs": [
    {
     "name": "stdout",
     "output_type": "stream",
     "text": [
      "Sales_April_2019.csv\n",
      "Sales_August_2019.csv\n",
      "Sales_December_2019.csv\n",
      "Sales_February_2019.csv\n",
      "Sales_January_2019.csv\n",
      "Sales_July_2019.csv\n",
      "Sales_June_2019.csv\n",
      "Sales_March_2019.csv\n",
      "Sales_May_2019.csv\n",
      "Sales_November_2019.csv\n",
      "Sales_October_2019.csv\n",
      "Sales_September_2019.csv\n"
     ]
    }
   ],
   "source": [
    "files=[file for file in os.listdir('Sales_Data/')]\n",
    "for file in files:\n",
    "    print(file)"
   ]
  },
  {
   "cell_type": "code",
   "execution_count": 3,
   "id": "c440be2e",
   "metadata": {},
   "outputs": [],
   "source": [
    "path='Sales_Data/'\n",
    "all_data=pd.DataFrame()\n",
    "\n",
    "for file in files:\n",
    "    current_df=pd.read_csv(path+\"/\"+file)\n",
    "    all_data=pd.concat([current_df,all_data])     "
   ]
  },
  {
   "cell_type": "code",
   "execution_count": 4,
   "id": "8815f323",
   "metadata": {},
   "outputs": [
    {
     "data": {
      "text/plain": [
       "(186850, 6)"
      ]
     },
     "execution_count": 4,
     "metadata": {},
     "output_type": "execute_result"
    }
   ],
   "source": [
    "all_data.shape"
   ]
  },
  {
   "cell_type": "code",
   "execution_count": 5,
   "id": "86856151",
   "metadata": {},
   "outputs": [
    {
     "data": {
      "text/html": [
       "<div>\n",
       "<style scoped>\n",
       "    .dataframe tbody tr th:only-of-type {\n",
       "        vertical-align: middle;\n",
       "    }\n",
       "\n",
       "    .dataframe tbody tr th {\n",
       "        vertical-align: top;\n",
       "    }\n",
       "\n",
       "    .dataframe thead th {\n",
       "        text-align: right;\n",
       "    }\n",
       "</style>\n",
       "<table border=\"1\" class=\"dataframe\">\n",
       "  <thead>\n",
       "    <tr style=\"text-align: right;\">\n",
       "      <th></th>\n",
       "      <th>Order ID</th>\n",
       "      <th>Product</th>\n",
       "      <th>Quantity Ordered</th>\n",
       "      <th>Price Each</th>\n",
       "      <th>Order Date</th>\n",
       "      <th>Purchase Address</th>\n",
       "    </tr>\n",
       "  </thead>\n",
       "  <tbody>\n",
       "    <tr>\n",
       "      <th>0</th>\n",
       "      <td>248151</td>\n",
       "      <td>AA Batteries (4-pack)</td>\n",
       "      <td>4</td>\n",
       "      <td>3.84</td>\n",
       "      <td>09/17/19 14:44</td>\n",
       "      <td>380 North St, Los Angeles, CA 90001</td>\n",
       "    </tr>\n",
       "    <tr>\n",
       "      <th>1</th>\n",
       "      <td>248152</td>\n",
       "      <td>USB-C Charging Cable</td>\n",
       "      <td>2</td>\n",
       "      <td>11.95</td>\n",
       "      <td>09/29/19 10:19</td>\n",
       "      <td>511 8th St, Austin, TX 73301</td>\n",
       "    </tr>\n",
       "    <tr>\n",
       "      <th>2</th>\n",
       "      <td>248153</td>\n",
       "      <td>USB-C Charging Cable</td>\n",
       "      <td>1</td>\n",
       "      <td>11.95</td>\n",
       "      <td>09/16/19 17:48</td>\n",
       "      <td>151 Johnson St, Los Angeles, CA 90001</td>\n",
       "    </tr>\n",
       "    <tr>\n",
       "      <th>3</th>\n",
       "      <td>248154</td>\n",
       "      <td>27in FHD Monitor</td>\n",
       "      <td>1</td>\n",
       "      <td>149.99</td>\n",
       "      <td>09/27/19 07:52</td>\n",
       "      <td>355 Hickory St, Seattle, WA 98101</td>\n",
       "    </tr>\n",
       "    <tr>\n",
       "      <th>4</th>\n",
       "      <td>248155</td>\n",
       "      <td>USB-C Charging Cable</td>\n",
       "      <td>1</td>\n",
       "      <td>11.95</td>\n",
       "      <td>09/01/19 19:03</td>\n",
       "      <td>125 5th St, Atlanta, GA 30301</td>\n",
       "    </tr>\n",
       "    <tr>\n",
       "      <th>5</th>\n",
       "      <td>248156</td>\n",
       "      <td>34in Ultrawide Monitor</td>\n",
       "      <td>1</td>\n",
       "      <td>379.99</td>\n",
       "      <td>09/13/19 14:59</td>\n",
       "      <td>469 12th St, Los Angeles, CA 90001</td>\n",
       "    </tr>\n",
       "    <tr>\n",
       "      <th>6</th>\n",
       "      <td>248157</td>\n",
       "      <td>Lightning Charging Cable</td>\n",
       "      <td>1</td>\n",
       "      <td>14.95</td>\n",
       "      <td>09/07/19 09:59</td>\n",
       "      <td>773 Johnson St, Portland, ME 04101</td>\n",
       "    </tr>\n",
       "    <tr>\n",
       "      <th>7</th>\n",
       "      <td>248158</td>\n",
       "      <td>Lightning Charging Cable</td>\n",
       "      <td>1</td>\n",
       "      <td>14.95</td>\n",
       "      <td>09/02/19 14:16</td>\n",
       "      <td>682 Sunset St, Los Angeles, CA 90001</td>\n",
       "    </tr>\n",
       "    <tr>\n",
       "      <th>8</th>\n",
       "      <td>248159</td>\n",
       "      <td>Vareebadd Phone</td>\n",
       "      <td>1</td>\n",
       "      <td>400.0</td>\n",
       "      <td>09/06/19 16:45</td>\n",
       "      <td>664 Wilson St, New York City, NY 10001</td>\n",
       "    </tr>\n",
       "    <tr>\n",
       "      <th>9</th>\n",
       "      <td>248160</td>\n",
       "      <td>Wired Headphones</td>\n",
       "      <td>1</td>\n",
       "      <td>11.99</td>\n",
       "      <td>09/01/19 22:03</td>\n",
       "      <td>446 9th St, San Francisco, CA 94016</td>\n",
       "    </tr>\n",
       "    <tr>\n",
       "      <th>10</th>\n",
       "      <td>248161</td>\n",
       "      <td>USB-C Charging Cable</td>\n",
       "      <td>1</td>\n",
       "      <td>11.95</td>\n",
       "      <td>09/24/19 16:26</td>\n",
       "      <td>439 Spruce St, San Francisco, CA 94016</td>\n",
       "    </tr>\n",
       "    <tr>\n",
       "      <th>11</th>\n",
       "      <td>248162</td>\n",
       "      <td>AAA Batteries (4-pack)</td>\n",
       "      <td>3</td>\n",
       "      <td>2.99</td>\n",
       "      <td>09/14/19 12:52</td>\n",
       "      <td>439 Walnut St, Seattle, WA 98101</td>\n",
       "    </tr>\n",
       "    <tr>\n",
       "      <th>12</th>\n",
       "      <td>248163</td>\n",
       "      <td>USB-C Charging Cable</td>\n",
       "      <td>1</td>\n",
       "      <td>11.95</td>\n",
       "      <td>09/25/19 12:32</td>\n",
       "      <td>41 North St, Portland, OR 97035</td>\n",
       "    </tr>\n",
       "    <tr>\n",
       "      <th>13</th>\n",
       "      <td>248164</td>\n",
       "      <td>27in FHD Monitor</td>\n",
       "      <td>1</td>\n",
       "      <td>149.99</td>\n",
       "      <td>09/12/19 15:57</td>\n",
       "      <td>88 9th St, San Francisco, CA 94016</td>\n",
       "    </tr>\n",
       "    <tr>\n",
       "      <th>14</th>\n",
       "      <td>248165</td>\n",
       "      <td>Lightning Charging Cable</td>\n",
       "      <td>1</td>\n",
       "      <td>14.95</td>\n",
       "      <td>09/15/19 12:42</td>\n",
       "      <td>585 Adams St, Atlanta, GA 30301</td>\n",
       "    </tr>\n",
       "  </tbody>\n",
       "</table>\n",
       "</div>"
      ],
      "text/plain": [
       "   Order ID                   Product Quantity Ordered Price Each  \\\n",
       "0    248151     AA Batteries (4-pack)                4       3.84   \n",
       "1    248152      USB-C Charging Cable                2      11.95   \n",
       "2    248153      USB-C Charging Cable                1      11.95   \n",
       "3    248154          27in FHD Monitor                1     149.99   \n",
       "4    248155      USB-C Charging Cable                1      11.95   \n",
       "5    248156    34in Ultrawide Monitor                1     379.99   \n",
       "6    248157  Lightning Charging Cable                1      14.95   \n",
       "7    248158  Lightning Charging Cable                1      14.95   \n",
       "8    248159           Vareebadd Phone                1      400.0   \n",
       "9    248160          Wired Headphones                1      11.99   \n",
       "10   248161      USB-C Charging Cable                1      11.95   \n",
       "11   248162    AAA Batteries (4-pack)                3       2.99   \n",
       "12   248163      USB-C Charging Cable                1      11.95   \n",
       "13   248164          27in FHD Monitor                1     149.99   \n",
       "14   248165  Lightning Charging Cable                1      14.95   \n",
       "\n",
       "        Order Date                        Purchase Address  \n",
       "0   09/17/19 14:44     380 North St, Los Angeles, CA 90001  \n",
       "1   09/29/19 10:19            511 8th St, Austin, TX 73301  \n",
       "2   09/16/19 17:48   151 Johnson St, Los Angeles, CA 90001  \n",
       "3   09/27/19 07:52       355 Hickory St, Seattle, WA 98101  \n",
       "4   09/01/19 19:03           125 5th St, Atlanta, GA 30301  \n",
       "5   09/13/19 14:59      469 12th St, Los Angeles, CA 90001  \n",
       "6   09/07/19 09:59      773 Johnson St, Portland, ME 04101  \n",
       "7   09/02/19 14:16    682 Sunset St, Los Angeles, CA 90001  \n",
       "8   09/06/19 16:45  664 Wilson St, New York City, NY 10001  \n",
       "9   09/01/19 22:03     446 9th St, San Francisco, CA 94016  \n",
       "10  09/24/19 16:26  439 Spruce St, San Francisco, CA 94016  \n",
       "11  09/14/19 12:52        439 Walnut St, Seattle, WA 98101  \n",
       "12  09/25/19 12:32         41 North St, Portland, OR 97035  \n",
       "13  09/12/19 15:57      88 9th St, San Francisco, CA 94016  \n",
       "14  09/15/19 12:42         585 Adams St, Atlanta, GA 30301  "
      ]
     },
     "execution_count": 5,
     "metadata": {},
     "output_type": "execute_result"
    }
   ],
   "source": [
    "all_data.head(15)"
   ]
  },
  {
   "cell_type": "code",
   "execution_count": 6,
   "id": "0c473b16",
   "metadata": {},
   "outputs": [],
   "source": [
    "all_data.to_csv('Sales_Data/all_data.csv', index=False)"
   ]
  },
  {
   "cell_type": "code",
   "execution_count": 7,
   "id": "30fc902d",
   "metadata": {},
   "outputs": [],
   "source": [
    "df=all_data"
   ]
  },
  {
   "cell_type": "code",
   "execution_count": 8,
   "id": "fa8c306a",
   "metadata": {},
   "outputs": [
    {
     "data": {
      "text/html": [
       "<div>\n",
       "<style scoped>\n",
       "    .dataframe tbody tr th:only-of-type {\n",
       "        vertical-align: middle;\n",
       "    }\n",
       "\n",
       "    .dataframe tbody tr th {\n",
       "        vertical-align: top;\n",
       "    }\n",
       "\n",
       "    .dataframe thead th {\n",
       "        text-align: right;\n",
       "    }\n",
       "</style>\n",
       "<table border=\"1\" class=\"dataframe\">\n",
       "  <thead>\n",
       "    <tr style=\"text-align: right;\">\n",
       "      <th></th>\n",
       "      <th>Order ID</th>\n",
       "      <th>Product</th>\n",
       "      <th>Quantity Ordered</th>\n",
       "      <th>Price Each</th>\n",
       "      <th>Order Date</th>\n",
       "      <th>Purchase Address</th>\n",
       "    </tr>\n",
       "  </thead>\n",
       "  <tbody>\n",
       "    <tr>\n",
       "      <th>0</th>\n",
       "      <td>248151</td>\n",
       "      <td>AA Batteries (4-pack)</td>\n",
       "      <td>4</td>\n",
       "      <td>3.84</td>\n",
       "      <td>09/17/19 14:44</td>\n",
       "      <td>380 North St, Los Angeles, CA 90001</td>\n",
       "    </tr>\n",
       "    <tr>\n",
       "      <th>1</th>\n",
       "      <td>248152</td>\n",
       "      <td>USB-C Charging Cable</td>\n",
       "      <td>2</td>\n",
       "      <td>11.95</td>\n",
       "      <td>09/29/19 10:19</td>\n",
       "      <td>511 8th St, Austin, TX 73301</td>\n",
       "    </tr>\n",
       "    <tr>\n",
       "      <th>2</th>\n",
       "      <td>248153</td>\n",
       "      <td>USB-C Charging Cable</td>\n",
       "      <td>1</td>\n",
       "      <td>11.95</td>\n",
       "      <td>09/16/19 17:48</td>\n",
       "      <td>151 Johnson St, Los Angeles, CA 90001</td>\n",
       "    </tr>\n",
       "    <tr>\n",
       "      <th>3</th>\n",
       "      <td>248154</td>\n",
       "      <td>27in FHD Monitor</td>\n",
       "      <td>1</td>\n",
       "      <td>149.99</td>\n",
       "      <td>09/27/19 07:52</td>\n",
       "      <td>355 Hickory St, Seattle, WA 98101</td>\n",
       "    </tr>\n",
       "    <tr>\n",
       "      <th>4</th>\n",
       "      <td>248155</td>\n",
       "      <td>USB-C Charging Cable</td>\n",
       "      <td>1</td>\n",
       "      <td>11.95</td>\n",
       "      <td>09/01/19 19:03</td>\n",
       "      <td>125 5th St, Atlanta, GA 30301</td>\n",
       "    </tr>\n",
       "  </tbody>\n",
       "</table>\n",
       "</div>"
      ],
      "text/plain": [
       "  Order ID                Product Quantity Ordered Price Each      Order Date  \\\n",
       "0   248151  AA Batteries (4-pack)                4       3.84  09/17/19 14:44   \n",
       "1   248152   USB-C Charging Cable                2      11.95  09/29/19 10:19   \n",
       "2   248153   USB-C Charging Cable                1      11.95  09/16/19 17:48   \n",
       "3   248154       27in FHD Monitor                1     149.99  09/27/19 07:52   \n",
       "4   248155   USB-C Charging Cable                1      11.95  09/01/19 19:03   \n",
       "\n",
       "                        Purchase Address  \n",
       "0    380 North St, Los Angeles, CA 90001  \n",
       "1           511 8th St, Austin, TX 73301  \n",
       "2  151 Johnson St, Los Angeles, CA 90001  \n",
       "3      355 Hickory St, Seattle, WA 98101  \n",
       "4          125 5th St, Atlanta, GA 30301  "
      ]
     },
     "execution_count": 8,
     "metadata": {},
     "output_type": "execute_result"
    }
   ],
   "source": [
    "df.head()"
   ]
  },
  {
   "cell_type": "code",
   "execution_count": 9,
   "id": "cb9cccf5",
   "metadata": {},
   "outputs": [
    {
     "data": {
      "text/plain": [
       "(186850, 6)"
      ]
     },
     "execution_count": 9,
     "metadata": {},
     "output_type": "execute_result"
    }
   ],
   "source": [
    "df.shape"
   ]
  },
  {
   "cell_type": "code",
   "execution_count": 10,
   "id": "cba4ba3b",
   "metadata": {},
   "outputs": [
    {
     "data": {
      "text/plain": [
       "['Order ID',\n",
       " 'Product',\n",
       " 'Quantity Ordered',\n",
       " 'Price Each',\n",
       " 'Order Date',\n",
       " 'Purchase Address']"
      ]
     },
     "execution_count": 10,
     "metadata": {},
     "output_type": "execute_result"
    }
   ],
   "source": [
    "df.columns.to_list()"
   ]
  },
  {
   "cell_type": "code",
   "execution_count": 11,
   "id": "1cf8af0d",
   "metadata": {},
   "outputs": [
    {
     "name": "stdout",
     "output_type": "stream",
     "text": [
      "<class 'pandas.core.frame.DataFrame'>\n",
      "Int64Index: 186850 entries, 0 to 18382\n",
      "Data columns (total 6 columns):\n",
      " #   Column            Non-Null Count   Dtype \n",
      "---  ------            --------------   ----- \n",
      " 0   Order ID          186305 non-null  object\n",
      " 1   Product           186305 non-null  object\n",
      " 2   Quantity Ordered  186305 non-null  object\n",
      " 3   Price Each        186305 non-null  object\n",
      " 4   Order Date        186305 non-null  object\n",
      " 5   Purchase Address  186305 non-null  object\n",
      "dtypes: object(6)\n",
      "memory usage: 10.0+ MB\n"
     ]
    }
   ],
   "source": [
    "df.info()"
   ]
  },
  {
   "cell_type": "code",
   "execution_count": 12,
   "id": "f8d74eea",
   "metadata": {},
   "outputs": [
    {
     "data": {
      "text/plain": [
       "Order ID            object\n",
       "Product             object\n",
       "Quantity Ordered    object\n",
       "Price Each          object\n",
       "Order Date          object\n",
       "Purchase Address    object\n",
       "dtype: object"
      ]
     },
     "execution_count": 12,
     "metadata": {},
     "output_type": "execute_result"
    }
   ],
   "source": [
    "df.dtypes"
   ]
  },
  {
   "cell_type": "code",
   "execution_count": 13,
   "id": "1071353e",
   "metadata": {},
   "outputs": [
    {
     "data": {
      "text/plain": [
       "1162"
      ]
     },
     "execution_count": 13,
     "metadata": {},
     "output_type": "execute_result"
    }
   ],
   "source": [
    "df.duplicated().sum()"
   ]
  },
  {
   "cell_type": "code",
   "execution_count": 14,
   "id": "dd54bc76",
   "metadata": {},
   "outputs": [
    {
     "name": "stdout",
     "output_type": "stream",
     "text": [
      "Order ID-0%\n",
      "Product-0%\n",
      "Quantity Ordered-0%\n",
      "Price Each-0%\n",
      "Order Date-0%\n",
      "Purchase Address-0%\n"
     ]
    }
   ],
   "source": [
    "for col in df.columns:\n",
    "    pct_missing=np.mean(df[col].isnull())\n",
    "    print('{}-{}%'.format(col,round(pct_missing*100)))"
   ]
  },
  {
   "cell_type": "code",
   "execution_count": 15,
   "id": "b2cc68d9",
   "metadata": {},
   "outputs": [
    {
     "data": {
      "text/plain": [
       "Order ID            545\n",
       "Product             545\n",
       "Quantity Ordered    545\n",
       "Price Each          545\n",
       "Order Date          545\n",
       "Purchase Address    545\n",
       "dtype: int64"
      ]
     },
     "execution_count": 15,
     "metadata": {},
     "output_type": "execute_result"
    }
   ],
   "source": [
    "df.isnull().sum()"
   ]
  },
  {
   "cell_type": "code",
   "execution_count": 16,
   "id": "b5f107d3",
   "metadata": {},
   "outputs": [],
   "source": [
    "df.dropna(inplace=True)"
   ]
  },
  {
   "cell_type": "code",
   "execution_count": 17,
   "id": "d669c2e1",
   "metadata": {},
   "outputs": [
    {
     "data": {
      "text/plain": [
       "0"
      ]
     },
     "execution_count": 17,
     "metadata": {},
     "output_type": "execute_result"
    }
   ],
   "source": [
    "df.isnull().sum().sum()"
   ]
  },
  {
   "cell_type": "code",
   "execution_count": 18,
   "id": "227bbb5e",
   "metadata": {},
   "outputs": [
    {
     "data": {
      "text/plain": [
       "'09 08:46'"
      ]
     },
     "execution_count": 18,
     "metadata": {},
     "output_type": "execute_result"
    }
   ],
   "source": [
    "'04/08/09 08:46'.split('/')[2]"
   ]
  },
  {
   "cell_type": "code",
   "execution_count": 19,
   "id": "274000f8",
   "metadata": {},
   "outputs": [],
   "source": [
    "def month(x):\n",
    "    return x.split('/')[0]"
   ]
  },
  {
   "cell_type": "code",
   "execution_count": 20,
   "id": "4e240b23",
   "metadata": {},
   "outputs": [],
   "source": [
    "df['month']=df['Order Date'].apply(month)"
   ]
  },
  {
   "cell_type": "code",
   "execution_count": 21,
   "id": "3d613542",
   "metadata": {},
   "outputs": [
    {
     "data": {
      "text/html": [
       "<div>\n",
       "<style scoped>\n",
       "    .dataframe tbody tr th:only-of-type {\n",
       "        vertical-align: middle;\n",
       "    }\n",
       "\n",
       "    .dataframe tbody tr th {\n",
       "        vertical-align: top;\n",
       "    }\n",
       "\n",
       "    .dataframe thead th {\n",
       "        text-align: right;\n",
       "    }\n",
       "</style>\n",
       "<table border=\"1\" class=\"dataframe\">\n",
       "  <thead>\n",
       "    <tr style=\"text-align: right;\">\n",
       "      <th></th>\n",
       "      <th>Order ID</th>\n",
       "      <th>Product</th>\n",
       "      <th>Quantity Ordered</th>\n",
       "      <th>Price Each</th>\n",
       "      <th>Order Date</th>\n",
       "      <th>Purchase Address</th>\n",
       "      <th>month</th>\n",
       "    </tr>\n",
       "  </thead>\n",
       "  <tbody>\n",
       "    <tr>\n",
       "      <th>0</th>\n",
       "      <td>248151</td>\n",
       "      <td>AA Batteries (4-pack)</td>\n",
       "      <td>4</td>\n",
       "      <td>3.84</td>\n",
       "      <td>09/17/19 14:44</td>\n",
       "      <td>380 North St, Los Angeles, CA 90001</td>\n",
       "      <td>09</td>\n",
       "    </tr>\n",
       "    <tr>\n",
       "      <th>1</th>\n",
       "      <td>248152</td>\n",
       "      <td>USB-C Charging Cable</td>\n",
       "      <td>2</td>\n",
       "      <td>11.95</td>\n",
       "      <td>09/29/19 10:19</td>\n",
       "      <td>511 8th St, Austin, TX 73301</td>\n",
       "      <td>09</td>\n",
       "    </tr>\n",
       "    <tr>\n",
       "      <th>2</th>\n",
       "      <td>248153</td>\n",
       "      <td>USB-C Charging Cable</td>\n",
       "      <td>1</td>\n",
       "      <td>11.95</td>\n",
       "      <td>09/16/19 17:48</td>\n",
       "      <td>151 Johnson St, Los Angeles, CA 90001</td>\n",
       "      <td>09</td>\n",
       "    </tr>\n",
       "    <tr>\n",
       "      <th>3</th>\n",
       "      <td>248154</td>\n",
       "      <td>27in FHD Monitor</td>\n",
       "      <td>1</td>\n",
       "      <td>149.99</td>\n",
       "      <td>09/27/19 07:52</td>\n",
       "      <td>355 Hickory St, Seattle, WA 98101</td>\n",
       "      <td>09</td>\n",
       "    </tr>\n",
       "    <tr>\n",
       "      <th>4</th>\n",
       "      <td>248155</td>\n",
       "      <td>USB-C Charging Cable</td>\n",
       "      <td>1</td>\n",
       "      <td>11.95</td>\n",
       "      <td>09/01/19 19:03</td>\n",
       "      <td>125 5th St, Atlanta, GA 30301</td>\n",
       "      <td>09</td>\n",
       "    </tr>\n",
       "  </tbody>\n",
       "</table>\n",
       "</div>"
      ],
      "text/plain": [
       "  Order ID                Product Quantity Ordered Price Each      Order Date  \\\n",
       "0   248151  AA Batteries (4-pack)                4       3.84  09/17/19 14:44   \n",
       "1   248152   USB-C Charging Cable                2      11.95  09/29/19 10:19   \n",
       "2   248153   USB-C Charging Cable                1      11.95  09/16/19 17:48   \n",
       "3   248154       27in FHD Monitor                1     149.99  09/27/19 07:52   \n",
       "4   248155   USB-C Charging Cable                1      11.95  09/01/19 19:03   \n",
       "\n",
       "                        Purchase Address month  \n",
       "0    380 North St, Los Angeles, CA 90001    09  \n",
       "1           511 8th St, Austin, TX 73301    09  \n",
       "2  151 Johnson St, Los Angeles, CA 90001    09  \n",
       "3      355 Hickory St, Seattle, WA 98101    09  \n",
       "4          125 5th St, Atlanta, GA 30301    09  "
      ]
     },
     "execution_count": 21,
     "metadata": {},
     "output_type": "execute_result"
    }
   ],
   "source": [
    "df.head()"
   ]
  },
  {
   "cell_type": "code",
   "execution_count": 22,
   "id": "d3d2aa86",
   "metadata": {},
   "outputs": [
    {
     "data": {
      "text/plain": [
       "Order ID            object\n",
       "Product             object\n",
       "Quantity Ordered    object\n",
       "Price Each          object\n",
       "Order Date          object\n",
       "Purchase Address    object\n",
       "month               object\n",
       "dtype: object"
      ]
     },
     "execution_count": 22,
     "metadata": {},
     "output_type": "execute_result"
    }
   ],
   "source": [
    "df.dtypes"
   ]
  },
  {
   "cell_type": "code",
   "execution_count": 23,
   "id": "a28308f8",
   "metadata": {},
   "outputs": [
    {
     "ename": "ValueError",
     "evalue": "invalid literal for int() with base 10: 'Order Date'",
     "output_type": "error",
     "traceback": [
      "\u001b[1;31m---------------------------------------------------------------------------\u001b[0m",
      "\u001b[1;31mValueError\u001b[0m                                Traceback (most recent call last)",
      "\u001b[1;32m~\\AppData\\Local\\Temp/ipykernel_2132/3462167019.py\u001b[0m in \u001b[0;36m<module>\u001b[1;34m\u001b[0m\n\u001b[1;32m----> 1\u001b[1;33m \u001b[0mdf\u001b[0m\u001b[1;33m[\u001b[0m\u001b[1;34m'month'\u001b[0m\u001b[1;33m]\u001b[0m\u001b[1;33m=\u001b[0m\u001b[0mdf\u001b[0m\u001b[1;33m[\u001b[0m\u001b[1;34m'month'\u001b[0m\u001b[1;33m]\u001b[0m\u001b[1;33m.\u001b[0m\u001b[0mastype\u001b[0m\u001b[1;33m(\u001b[0m\u001b[0mint\u001b[0m\u001b[1;33m)\u001b[0m\u001b[1;33m\u001b[0m\u001b[1;33m\u001b[0m\u001b[0m\n\u001b[0m",
      "\u001b[1;32m~\\anaconda3\\lib\\site-packages\\pandas\\core\\generic.py\u001b[0m in \u001b[0;36mastype\u001b[1;34m(self, dtype, copy, errors)\u001b[0m\n\u001b[0;32m   5813\u001b[0m         \u001b[1;32melse\u001b[0m\u001b[1;33m:\u001b[0m\u001b[1;33m\u001b[0m\u001b[1;33m\u001b[0m\u001b[0m\n\u001b[0;32m   5814\u001b[0m             \u001b[1;31m# else, only a single dtype is given\u001b[0m\u001b[1;33m\u001b[0m\u001b[1;33m\u001b[0m\u001b[0m\n\u001b[1;32m-> 5815\u001b[1;33m             \u001b[0mnew_data\u001b[0m \u001b[1;33m=\u001b[0m \u001b[0mself\u001b[0m\u001b[1;33m.\u001b[0m\u001b[0m_mgr\u001b[0m\u001b[1;33m.\u001b[0m\u001b[0mastype\u001b[0m\u001b[1;33m(\u001b[0m\u001b[0mdtype\u001b[0m\u001b[1;33m=\u001b[0m\u001b[0mdtype\u001b[0m\u001b[1;33m,\u001b[0m \u001b[0mcopy\u001b[0m\u001b[1;33m=\u001b[0m\u001b[0mcopy\u001b[0m\u001b[1;33m,\u001b[0m \u001b[0merrors\u001b[0m\u001b[1;33m=\u001b[0m\u001b[0merrors\u001b[0m\u001b[1;33m)\u001b[0m\u001b[1;33m\u001b[0m\u001b[1;33m\u001b[0m\u001b[0m\n\u001b[0m\u001b[0;32m   5816\u001b[0m             \u001b[1;32mreturn\u001b[0m \u001b[0mself\u001b[0m\u001b[1;33m.\u001b[0m\u001b[0m_constructor\u001b[0m\u001b[1;33m(\u001b[0m\u001b[0mnew_data\u001b[0m\u001b[1;33m)\u001b[0m\u001b[1;33m.\u001b[0m\u001b[0m__finalize__\u001b[0m\u001b[1;33m(\u001b[0m\u001b[0mself\u001b[0m\u001b[1;33m,\u001b[0m \u001b[0mmethod\u001b[0m\u001b[1;33m=\u001b[0m\u001b[1;34m\"astype\"\u001b[0m\u001b[1;33m)\u001b[0m\u001b[1;33m\u001b[0m\u001b[1;33m\u001b[0m\u001b[0m\n\u001b[0;32m   5817\u001b[0m \u001b[1;33m\u001b[0m\u001b[0m\n",
      "\u001b[1;32m~\\anaconda3\\lib\\site-packages\\pandas\\core\\internals\\managers.py\u001b[0m in \u001b[0;36mastype\u001b[1;34m(self, dtype, copy, errors)\u001b[0m\n\u001b[0;32m    416\u001b[0m \u001b[1;33m\u001b[0m\u001b[0m\n\u001b[0;32m    417\u001b[0m     \u001b[1;32mdef\u001b[0m \u001b[0mastype\u001b[0m\u001b[1;33m(\u001b[0m\u001b[0mself\u001b[0m\u001b[1;33m:\u001b[0m \u001b[0mT\u001b[0m\u001b[1;33m,\u001b[0m \u001b[0mdtype\u001b[0m\u001b[1;33m,\u001b[0m \u001b[0mcopy\u001b[0m\u001b[1;33m:\u001b[0m \u001b[0mbool\u001b[0m \u001b[1;33m=\u001b[0m \u001b[1;32mFalse\u001b[0m\u001b[1;33m,\u001b[0m \u001b[0merrors\u001b[0m\u001b[1;33m:\u001b[0m \u001b[0mstr\u001b[0m \u001b[1;33m=\u001b[0m \u001b[1;34m\"raise\"\u001b[0m\u001b[1;33m)\u001b[0m \u001b[1;33m->\u001b[0m \u001b[0mT\u001b[0m\u001b[1;33m:\u001b[0m\u001b[1;33m\u001b[0m\u001b[1;33m\u001b[0m\u001b[0m\n\u001b[1;32m--> 418\u001b[1;33m         \u001b[1;32mreturn\u001b[0m \u001b[0mself\u001b[0m\u001b[1;33m.\u001b[0m\u001b[0mapply\u001b[0m\u001b[1;33m(\u001b[0m\u001b[1;34m\"astype\"\u001b[0m\u001b[1;33m,\u001b[0m \u001b[0mdtype\u001b[0m\u001b[1;33m=\u001b[0m\u001b[0mdtype\u001b[0m\u001b[1;33m,\u001b[0m \u001b[0mcopy\u001b[0m\u001b[1;33m=\u001b[0m\u001b[0mcopy\u001b[0m\u001b[1;33m,\u001b[0m \u001b[0merrors\u001b[0m\u001b[1;33m=\u001b[0m\u001b[0merrors\u001b[0m\u001b[1;33m)\u001b[0m\u001b[1;33m\u001b[0m\u001b[1;33m\u001b[0m\u001b[0m\n\u001b[0m\u001b[0;32m    419\u001b[0m \u001b[1;33m\u001b[0m\u001b[0m\n\u001b[0;32m    420\u001b[0m     def convert(\n",
      "\u001b[1;32m~\\anaconda3\\lib\\site-packages\\pandas\\core\\internals\\managers.py\u001b[0m in \u001b[0;36mapply\u001b[1;34m(self, f, align_keys, ignore_failures, **kwargs)\u001b[0m\n\u001b[0;32m    325\u001b[0m                     \u001b[0mapplied\u001b[0m \u001b[1;33m=\u001b[0m \u001b[0mb\u001b[0m\u001b[1;33m.\u001b[0m\u001b[0mapply\u001b[0m\u001b[1;33m(\u001b[0m\u001b[0mf\u001b[0m\u001b[1;33m,\u001b[0m \u001b[1;33m**\u001b[0m\u001b[0mkwargs\u001b[0m\u001b[1;33m)\u001b[0m\u001b[1;33m\u001b[0m\u001b[1;33m\u001b[0m\u001b[0m\n\u001b[0;32m    326\u001b[0m                 \u001b[1;32melse\u001b[0m\u001b[1;33m:\u001b[0m\u001b[1;33m\u001b[0m\u001b[1;33m\u001b[0m\u001b[0m\n\u001b[1;32m--> 327\u001b[1;33m                     \u001b[0mapplied\u001b[0m \u001b[1;33m=\u001b[0m \u001b[0mgetattr\u001b[0m\u001b[1;33m(\u001b[0m\u001b[0mb\u001b[0m\u001b[1;33m,\u001b[0m \u001b[0mf\u001b[0m\u001b[1;33m)\u001b[0m\u001b[1;33m(\u001b[0m\u001b[1;33m**\u001b[0m\u001b[0mkwargs\u001b[0m\u001b[1;33m)\u001b[0m\u001b[1;33m\u001b[0m\u001b[1;33m\u001b[0m\u001b[0m\n\u001b[0m\u001b[0;32m    328\u001b[0m             \u001b[1;32mexcept\u001b[0m \u001b[1;33m(\u001b[0m\u001b[0mTypeError\u001b[0m\u001b[1;33m,\u001b[0m \u001b[0mNotImplementedError\u001b[0m\u001b[1;33m)\u001b[0m\u001b[1;33m:\u001b[0m\u001b[1;33m\u001b[0m\u001b[1;33m\u001b[0m\u001b[0m\n\u001b[0;32m    329\u001b[0m                 \u001b[1;32mif\u001b[0m \u001b[1;32mnot\u001b[0m \u001b[0mignore_failures\u001b[0m\u001b[1;33m:\u001b[0m\u001b[1;33m\u001b[0m\u001b[1;33m\u001b[0m\u001b[0m\n",
      "\u001b[1;32m~\\anaconda3\\lib\\site-packages\\pandas\\core\\internals\\blocks.py\u001b[0m in \u001b[0;36mastype\u001b[1;34m(self, dtype, copy, errors)\u001b[0m\n\u001b[0;32m    590\u001b[0m         \u001b[0mvalues\u001b[0m \u001b[1;33m=\u001b[0m \u001b[0mself\u001b[0m\u001b[1;33m.\u001b[0m\u001b[0mvalues\u001b[0m\u001b[1;33m\u001b[0m\u001b[1;33m\u001b[0m\u001b[0m\n\u001b[0;32m    591\u001b[0m \u001b[1;33m\u001b[0m\u001b[0m\n\u001b[1;32m--> 592\u001b[1;33m         \u001b[0mnew_values\u001b[0m \u001b[1;33m=\u001b[0m \u001b[0mastype_array_safe\u001b[0m\u001b[1;33m(\u001b[0m\u001b[0mvalues\u001b[0m\u001b[1;33m,\u001b[0m \u001b[0mdtype\u001b[0m\u001b[1;33m,\u001b[0m \u001b[0mcopy\u001b[0m\u001b[1;33m=\u001b[0m\u001b[0mcopy\u001b[0m\u001b[1;33m,\u001b[0m \u001b[0merrors\u001b[0m\u001b[1;33m=\u001b[0m\u001b[0merrors\u001b[0m\u001b[1;33m)\u001b[0m\u001b[1;33m\u001b[0m\u001b[1;33m\u001b[0m\u001b[0m\n\u001b[0m\u001b[0;32m    593\u001b[0m \u001b[1;33m\u001b[0m\u001b[0m\n\u001b[0;32m    594\u001b[0m         \u001b[0mnew_values\u001b[0m \u001b[1;33m=\u001b[0m \u001b[0mmaybe_coerce_values\u001b[0m\u001b[1;33m(\u001b[0m\u001b[0mnew_values\u001b[0m\u001b[1;33m)\u001b[0m\u001b[1;33m\u001b[0m\u001b[1;33m\u001b[0m\u001b[0m\n",
      "\u001b[1;32m~\\anaconda3\\lib\\site-packages\\pandas\\core\\dtypes\\cast.py\u001b[0m in \u001b[0;36mastype_array_safe\u001b[1;34m(values, dtype, copy, errors)\u001b[0m\n\u001b[0;32m   1307\u001b[0m \u001b[1;33m\u001b[0m\u001b[0m\n\u001b[0;32m   1308\u001b[0m     \u001b[1;32mtry\u001b[0m\u001b[1;33m:\u001b[0m\u001b[1;33m\u001b[0m\u001b[1;33m\u001b[0m\u001b[0m\n\u001b[1;32m-> 1309\u001b[1;33m         \u001b[0mnew_values\u001b[0m \u001b[1;33m=\u001b[0m \u001b[0mastype_array\u001b[0m\u001b[1;33m(\u001b[0m\u001b[0mvalues\u001b[0m\u001b[1;33m,\u001b[0m \u001b[0mdtype\u001b[0m\u001b[1;33m,\u001b[0m \u001b[0mcopy\u001b[0m\u001b[1;33m=\u001b[0m\u001b[0mcopy\u001b[0m\u001b[1;33m)\u001b[0m\u001b[1;33m\u001b[0m\u001b[1;33m\u001b[0m\u001b[0m\n\u001b[0m\u001b[0;32m   1310\u001b[0m     \u001b[1;32mexcept\u001b[0m \u001b[1;33m(\u001b[0m\u001b[0mValueError\u001b[0m\u001b[1;33m,\u001b[0m \u001b[0mTypeError\u001b[0m\u001b[1;33m)\u001b[0m\u001b[1;33m:\u001b[0m\u001b[1;33m\u001b[0m\u001b[1;33m\u001b[0m\u001b[0m\n\u001b[0;32m   1311\u001b[0m         \u001b[1;31m# e.g. astype_nansafe can fail on object-dtype of strings\u001b[0m\u001b[1;33m\u001b[0m\u001b[1;33m\u001b[0m\u001b[0m\n",
      "\u001b[1;32m~\\anaconda3\\lib\\site-packages\\pandas\\core\\dtypes\\cast.py\u001b[0m in \u001b[0;36mastype_array\u001b[1;34m(values, dtype, copy)\u001b[0m\n\u001b[0;32m   1255\u001b[0m \u001b[1;33m\u001b[0m\u001b[0m\n\u001b[0;32m   1256\u001b[0m     \u001b[1;32melse\u001b[0m\u001b[1;33m:\u001b[0m\u001b[1;33m\u001b[0m\u001b[1;33m\u001b[0m\u001b[0m\n\u001b[1;32m-> 1257\u001b[1;33m         \u001b[0mvalues\u001b[0m \u001b[1;33m=\u001b[0m \u001b[0mastype_nansafe\u001b[0m\u001b[1;33m(\u001b[0m\u001b[0mvalues\u001b[0m\u001b[1;33m,\u001b[0m \u001b[0mdtype\u001b[0m\u001b[1;33m,\u001b[0m \u001b[0mcopy\u001b[0m\u001b[1;33m=\u001b[0m\u001b[0mcopy\u001b[0m\u001b[1;33m)\u001b[0m\u001b[1;33m\u001b[0m\u001b[1;33m\u001b[0m\u001b[0m\n\u001b[0m\u001b[0;32m   1258\u001b[0m \u001b[1;33m\u001b[0m\u001b[0m\n\u001b[0;32m   1259\u001b[0m     \u001b[1;31m# in pandas we don't store numpy str dtypes, so convert to object\u001b[0m\u001b[1;33m\u001b[0m\u001b[1;33m\u001b[0m\u001b[0m\n",
      "\u001b[1;32m~\\anaconda3\\lib\\site-packages\\pandas\\core\\dtypes\\cast.py\u001b[0m in \u001b[0;36mastype_nansafe\u001b[1;34m(arr, dtype, copy, skipna)\u001b[0m\n\u001b[0;32m   1172\u001b[0m         \u001b[1;31m# work around NumPy brokenness, #1987\u001b[0m\u001b[1;33m\u001b[0m\u001b[1;33m\u001b[0m\u001b[0m\n\u001b[0;32m   1173\u001b[0m         \u001b[1;32mif\u001b[0m \u001b[0mnp\u001b[0m\u001b[1;33m.\u001b[0m\u001b[0missubdtype\u001b[0m\u001b[1;33m(\u001b[0m\u001b[0mdtype\u001b[0m\u001b[1;33m.\u001b[0m\u001b[0mtype\u001b[0m\u001b[1;33m,\u001b[0m \u001b[0mnp\u001b[0m\u001b[1;33m.\u001b[0m\u001b[0minteger\u001b[0m\u001b[1;33m)\u001b[0m\u001b[1;33m:\u001b[0m\u001b[1;33m\u001b[0m\u001b[1;33m\u001b[0m\u001b[0m\n\u001b[1;32m-> 1174\u001b[1;33m             \u001b[1;32mreturn\u001b[0m \u001b[0mlib\u001b[0m\u001b[1;33m.\u001b[0m\u001b[0mastype_intsafe\u001b[0m\u001b[1;33m(\u001b[0m\u001b[0marr\u001b[0m\u001b[1;33m,\u001b[0m \u001b[0mdtype\u001b[0m\u001b[1;33m)\u001b[0m\u001b[1;33m\u001b[0m\u001b[1;33m\u001b[0m\u001b[0m\n\u001b[0m\u001b[0;32m   1175\u001b[0m \u001b[1;33m\u001b[0m\u001b[0m\n\u001b[0;32m   1176\u001b[0m         \u001b[1;31m# if we have a datetime/timedelta array of objects\u001b[0m\u001b[1;33m\u001b[0m\u001b[1;33m\u001b[0m\u001b[0m\n",
      "\u001b[1;32m~\\anaconda3\\lib\\site-packages\\pandas\\_libs\\lib.pyx\u001b[0m in \u001b[0;36mpandas._libs.lib.astype_intsafe\u001b[1;34m()\u001b[0m\n",
      "\u001b[1;31mValueError\u001b[0m: invalid literal for int() with base 10: 'Order Date'"
     ]
    }
   ],
   "source": [
    "df['month']=df['month'].astype(int)"
   ]
  },
  {
   "cell_type": "code",
   "execution_count": 24,
   "id": "086c6b53",
   "metadata": {},
   "outputs": [
    {
     "data": {
      "text/plain": [
       "array(['09', '10', 'Order Date', '11', '12', '05', '06', '03', '04', '07',\n",
       "       '08', '01', '02'], dtype=object)"
      ]
     },
     "execution_count": 24,
     "metadata": {},
     "output_type": "execute_result"
    }
   ],
   "source": [
    "df['month'].unique()"
   ]
  },
  {
   "cell_type": "code",
   "execution_count": 27,
   "id": "79b4ad9e",
   "metadata": {},
   "outputs": [
    {
     "ename": "SyntaxError",
     "evalue": "invalid syntax (<unknown>, line 1)",
     "output_type": "error",
     "traceback": [
      "Traceback \u001b[1;36m(most recent call last)\u001b[0m:\n",
      "  File \u001b[0;32m\"C:\\Users\\DELL\\anaconda3\\lib\\site-packages\\IPython\\core\\interactiveshell.py\"\u001b[0m, line \u001b[0;32m3444\u001b[0m, in \u001b[0;35mrun_code\u001b[0m\n    exec(code_obj, self.user_global_ns, self.user_ns)\n",
      "  File \u001b[0;32m\"C:\\Users\\DELL\\AppData\\Local\\Temp/ipykernel_2132/3313730462.py\"\u001b[0m, line \u001b[0;32m1\u001b[0m, in \u001b[0;35m<module>\u001b[0m\n    df.query('month == Order Date', inplace=True)\n",
      "  File \u001b[0;32m\"C:\\Users\\DELL\\anaconda3\\lib\\site-packages\\pandas\\core\\frame.py\"\u001b[0m, line \u001b[0;32m4060\u001b[0m, in \u001b[0;35mquery\u001b[0m\n    res = self.eval(expr, **kwargs)\n",
      "  File \u001b[0;32m\"C:\\Users\\DELL\\anaconda3\\lib\\site-packages\\pandas\\core\\frame.py\"\u001b[0m, line \u001b[0;32m4191\u001b[0m, in \u001b[0;35meval\u001b[0m\n    return _eval(expr, inplace=inplace, **kwargs)\n",
      "  File \u001b[0;32m\"C:\\Users\\DELL\\anaconda3\\lib\\site-packages\\pandas\\core\\computation\\eval.py\"\u001b[0m, line \u001b[0;32m348\u001b[0m, in \u001b[0;35meval\u001b[0m\n    parsed_expr = Expr(expr, engine=engine, parser=parser, env=env)\n",
      "  File \u001b[0;32m\"C:\\Users\\DELL\\anaconda3\\lib\\site-packages\\pandas\\core\\computation\\expr.py\"\u001b[0m, line \u001b[0;32m806\u001b[0m, in \u001b[0;35m__init__\u001b[0m\n    self.terms = self.parse()\n",
      "  File \u001b[0;32m\"C:\\Users\\DELL\\anaconda3\\lib\\site-packages\\pandas\\core\\computation\\expr.py\"\u001b[0m, line \u001b[0;32m825\u001b[0m, in \u001b[0;35mparse\u001b[0m\n    return self._visitor.visit(self.expr)\n",
      "  File \u001b[0;32m\"C:\\Users\\DELL\\anaconda3\\lib\\site-packages\\pandas\\core\\computation\\expr.py\"\u001b[0m, line \u001b[0;32m407\u001b[0m, in \u001b[0;35mvisit\u001b[0m\n    raise e\n",
      "  File \u001b[0;32m\"C:\\Users\\DELL\\anaconda3\\lib\\site-packages\\pandas\\core\\computation\\expr.py\"\u001b[0m, line \u001b[0;32m403\u001b[0m, in \u001b[0;35mvisit\u001b[0m\n    node = ast.fix_missing_locations(ast.parse(clean))\n",
      "\u001b[1;36m  File \u001b[1;32m\"C:\\Users\\DELL\\anaconda3\\lib\\ast.py\"\u001b[1;36m, line \u001b[1;32m50\u001b[1;36m, in \u001b[1;35mparse\u001b[1;36m\u001b[0m\n\u001b[1;33m    return compile(source, filename, mode, flags,\u001b[0m\n",
      "\u001b[1;36m  File \u001b[1;32m\"<unknown>\"\u001b[1;36m, line \u001b[1;32m1\u001b[0m\n\u001b[1;33m    month ==Order Date\u001b[0m\n\u001b[1;37m                  ^\u001b[0m\n\u001b[1;31mSyntaxError\u001b[0m\u001b[1;31m:\u001b[0m invalid syntax\n"
     ]
    }
   ],
   "source": [
    "df.query('month == Order Date', inplace=True)\n",
    "df"
   ]
  },
  {
   "cell_type": "code",
   "execution_count": 30,
   "id": "66aa8c43",
   "metadata": {},
   "outputs": [
    {
     "data": {
      "text/html": [
       "<div>\n",
       "<style scoped>\n",
       "    .dataframe tbody tr th:only-of-type {\n",
       "        vertical-align: middle;\n",
       "    }\n",
       "\n",
       "    .dataframe tbody tr th {\n",
       "        vertical-align: top;\n",
       "    }\n",
       "\n",
       "    .dataframe thead th {\n",
       "        text-align: right;\n",
       "    }\n",
       "</style>\n",
       "<table border=\"1\" class=\"dataframe\">\n",
       "  <thead>\n",
       "    <tr style=\"text-align: right;\">\n",
       "      <th></th>\n",
       "      <th>Order ID</th>\n",
       "      <th>Product</th>\n",
       "      <th>Quantity Ordered</th>\n",
       "      <th>Price Each</th>\n",
       "      <th>Order Date</th>\n",
       "      <th>Purchase Address</th>\n",
       "      <th>month</th>\n",
       "    </tr>\n",
       "  </thead>\n",
       "  <tbody>\n",
       "    <tr>\n",
       "      <th>1679</th>\n",
       "      <td>Order ID</td>\n",
       "      <td>Product</td>\n",
       "      <td>Quantity Ordered</td>\n",
       "      <td>Price Each</td>\n",
       "      <td>Order Date</td>\n",
       "      <td>Purchase Address</td>\n",
       "      <td>Order Date</td>\n",
       "    </tr>\n",
       "    <tr>\n",
       "      <th>3732</th>\n",
       "      <td>Order ID</td>\n",
       "      <td>Product</td>\n",
       "      <td>Quantity Ordered</td>\n",
       "      <td>Price Each</td>\n",
       "      <td>Order Date</td>\n",
       "      <td>Purchase Address</td>\n",
       "      <td>Order Date</td>\n",
       "    </tr>\n",
       "    <tr>\n",
       "      <th>3790</th>\n",
       "      <td>Order ID</td>\n",
       "      <td>Product</td>\n",
       "      <td>Quantity Ordered</td>\n",
       "      <td>Price Each</td>\n",
       "      <td>Order Date</td>\n",
       "      <td>Purchase Address</td>\n",
       "      <td>Order Date</td>\n",
       "    </tr>\n",
       "    <tr>\n",
       "      <th>4323</th>\n",
       "      <td>Order ID</td>\n",
       "      <td>Product</td>\n",
       "      <td>Quantity Ordered</td>\n",
       "      <td>Price Each</td>\n",
       "      <td>Order Date</td>\n",
       "      <td>Purchase Address</td>\n",
       "      <td>Order Date</td>\n",
       "    </tr>\n",
       "    <tr>\n",
       "      <th>5579</th>\n",
       "      <td>Order ID</td>\n",
       "      <td>Product</td>\n",
       "      <td>Quantity Ordered</td>\n",
       "      <td>Price Each</td>\n",
       "      <td>Order Date</td>\n",
       "      <td>Purchase Address</td>\n",
       "      <td>Order Date</td>\n",
       "    </tr>\n",
       "    <tr>\n",
       "      <th>...</th>\n",
       "      <td>...</td>\n",
       "      <td>...</td>\n",
       "      <td>...</td>\n",
       "      <td>...</td>\n",
       "      <td>...</td>\n",
       "      <td>...</td>\n",
       "      <td>...</td>\n",
       "    </tr>\n",
       "    <tr>\n",
       "      <th>15280</th>\n",
       "      <td>Order ID</td>\n",
       "      <td>Product</td>\n",
       "      <td>Quantity Ordered</td>\n",
       "      <td>Price Each</td>\n",
       "      <td>Order Date</td>\n",
       "      <td>Purchase Address</td>\n",
       "      <td>Order Date</td>\n",
       "    </tr>\n",
       "    <tr>\n",
       "      <th>17208</th>\n",
       "      <td>Order ID</td>\n",
       "      <td>Product</td>\n",
       "      <td>Quantity Ordered</td>\n",
       "      <td>Price Each</td>\n",
       "      <td>Order Date</td>\n",
       "      <td>Purchase Address</td>\n",
       "      <td>Order Date</td>\n",
       "    </tr>\n",
       "    <tr>\n",
       "      <th>17324</th>\n",
       "      <td>Order ID</td>\n",
       "      <td>Product</td>\n",
       "      <td>Quantity Ordered</td>\n",
       "      <td>Price Each</td>\n",
       "      <td>Order Date</td>\n",
       "      <td>Purchase Address</td>\n",
       "      <td>Order Date</td>\n",
       "    </tr>\n",
       "    <tr>\n",
       "      <th>17339</th>\n",
       "      <td>Order ID</td>\n",
       "      <td>Product</td>\n",
       "      <td>Quantity Ordered</td>\n",
       "      <td>Price Each</td>\n",
       "      <td>Order Date</td>\n",
       "      <td>Purchase Address</td>\n",
       "      <td>Order Date</td>\n",
       "    </tr>\n",
       "    <tr>\n",
       "      <th>17744</th>\n",
       "      <td>Order ID</td>\n",
       "      <td>Product</td>\n",
       "      <td>Quantity Ordered</td>\n",
       "      <td>Price Each</td>\n",
       "      <td>Order Date</td>\n",
       "      <td>Purchase Address</td>\n",
       "      <td>Order Date</td>\n",
       "    </tr>\n",
       "  </tbody>\n",
       "</table>\n",
       "<p>355 rows × 7 columns</p>\n",
       "</div>"
      ],
      "text/plain": [
       "       Order ID  Product  Quantity Ordered  Price Each  Order Date  \\\n",
       "1679   Order ID  Product  Quantity Ordered  Price Each  Order Date   \n",
       "3732   Order ID  Product  Quantity Ordered  Price Each  Order Date   \n",
       "3790   Order ID  Product  Quantity Ordered  Price Each  Order Date   \n",
       "4323   Order ID  Product  Quantity Ordered  Price Each  Order Date   \n",
       "5579   Order ID  Product  Quantity Ordered  Price Each  Order Date   \n",
       "...         ...      ...               ...         ...         ...   \n",
       "15280  Order ID  Product  Quantity Ordered  Price Each  Order Date   \n",
       "17208  Order ID  Product  Quantity Ordered  Price Each  Order Date   \n",
       "17324  Order ID  Product  Quantity Ordered  Price Each  Order Date   \n",
       "17339  Order ID  Product  Quantity Ordered  Price Each  Order Date   \n",
       "17744  Order ID  Product  Quantity Ordered  Price Each  Order Date   \n",
       "\n",
       "       Purchase Address       month  \n",
       "1679   Purchase Address  Order Date  \n",
       "3732   Purchase Address  Order Date  \n",
       "3790   Purchase Address  Order Date  \n",
       "4323   Purchase Address  Order Date  \n",
       "5579   Purchase Address  Order Date  \n",
       "...                 ...         ...  \n",
       "15280  Purchase Address  Order Date  \n",
       "17208  Purchase Address  Order Date  \n",
       "17324  Purchase Address  Order Date  \n",
       "17339  Purchase Address  Order Date  \n",
       "17744  Purchase Address  Order Date  \n",
       "\n",
       "[355 rows x 7 columns]"
      ]
     },
     "execution_count": 30,
     "metadata": {},
     "output_type": "execute_result"
    }
   ],
   "source": [
    "a=df.loc[(df['month']=='Order Date')]\n",
    "a"
   ]
  },
  {
   "cell_type": "code",
   "execution_count": 31,
   "id": "8489eb63",
   "metadata": {},
   "outputs": [
    {
     "data": {
      "text/html": [
       "<div>\n",
       "<style scoped>\n",
       "    .dataframe tbody tr th:only-of-type {\n",
       "        vertical-align: middle;\n",
       "    }\n",
       "\n",
       "    .dataframe tbody tr th {\n",
       "        vertical-align: top;\n",
       "    }\n",
       "\n",
       "    .dataframe thead th {\n",
       "        text-align: right;\n",
       "    }\n",
       "</style>\n",
       "<table border=\"1\" class=\"dataframe\">\n",
       "  <thead>\n",
       "    <tr style=\"text-align: right;\">\n",
       "      <th></th>\n",
       "      <th>Order ID</th>\n",
       "      <th>Product</th>\n",
       "      <th>Quantity Ordered</th>\n",
       "      <th>Price Each</th>\n",
       "      <th>Order Date</th>\n",
       "      <th>Purchase Address</th>\n",
       "      <th>month</th>\n",
       "    </tr>\n",
       "  </thead>\n",
       "  <tbody>\n",
       "    <tr>\n",
       "      <th>0</th>\n",
       "      <td>248151</td>\n",
       "      <td>AA Batteries (4-pack)</td>\n",
       "      <td>4</td>\n",
       "      <td>3.84</td>\n",
       "      <td>09/17/19 14:44</td>\n",
       "      <td>380 North St, Los Angeles, CA 90001</td>\n",
       "      <td>09</td>\n",
       "    </tr>\n",
       "    <tr>\n",
       "      <th>1</th>\n",
       "      <td>248152</td>\n",
       "      <td>USB-C Charging Cable</td>\n",
       "      <td>2</td>\n",
       "      <td>11.95</td>\n",
       "      <td>09/29/19 10:19</td>\n",
       "      <td>511 8th St, Austin, TX 73301</td>\n",
       "      <td>09</td>\n",
       "    </tr>\n",
       "    <tr>\n",
       "      <th>2</th>\n",
       "      <td>248153</td>\n",
       "      <td>USB-C Charging Cable</td>\n",
       "      <td>1</td>\n",
       "      <td>11.95</td>\n",
       "      <td>09/16/19 17:48</td>\n",
       "      <td>151 Johnson St, Los Angeles, CA 90001</td>\n",
       "      <td>09</td>\n",
       "    </tr>\n",
       "    <tr>\n",
       "      <th>3</th>\n",
       "      <td>248154</td>\n",
       "      <td>27in FHD Monitor</td>\n",
       "      <td>1</td>\n",
       "      <td>149.99</td>\n",
       "      <td>09/27/19 07:52</td>\n",
       "      <td>355 Hickory St, Seattle, WA 98101</td>\n",
       "      <td>09</td>\n",
       "    </tr>\n",
       "    <tr>\n",
       "      <th>4</th>\n",
       "      <td>248155</td>\n",
       "      <td>USB-C Charging Cable</td>\n",
       "      <td>1</td>\n",
       "      <td>11.95</td>\n",
       "      <td>09/01/19 19:03</td>\n",
       "      <td>125 5th St, Atlanta, GA 30301</td>\n",
       "      <td>09</td>\n",
       "    </tr>\n",
       "  </tbody>\n",
       "</table>\n",
       "</div>"
      ],
      "text/plain": [
       "  Order ID                Product Quantity Ordered Price Each      Order Date  \\\n",
       "0   248151  AA Batteries (4-pack)                4       3.84  09/17/19 14:44   \n",
       "1   248152   USB-C Charging Cable                2      11.95  09/29/19 10:19   \n",
       "2   248153   USB-C Charging Cable                1      11.95  09/16/19 17:48   \n",
       "3   248154       27in FHD Monitor                1     149.99  09/27/19 07:52   \n",
       "4   248155   USB-C Charging Cable                1      11.95  09/01/19 19:03   \n",
       "\n",
       "                        Purchase Address month  \n",
       "0    380 North St, Los Angeles, CA 90001    09  \n",
       "1           511 8th St, Austin, TX 73301    09  \n",
       "2  151 Johnson St, Los Angeles, CA 90001    09  \n",
       "3      355 Hickory St, Seattle, WA 98101    09  \n",
       "4          125 5th St, Atlanta, GA 30301    09  "
      ]
     },
     "execution_count": 31,
     "metadata": {},
     "output_type": "execute_result"
    }
   ],
   "source": [
    "filter=df['month']=='Order Date'\n",
    "df=df[~filter]\n",
    "df.head()"
   ]
  },
  {
   "cell_type": "code",
   "execution_count": 32,
   "id": "fee09c4c",
   "metadata": {},
   "outputs": [
    {
     "data": {
      "text/plain": [
       "array(['09', '10', '11', '12', '05', '06', '03', '04', '07', '08', '01',\n",
       "       '02'], dtype=object)"
      ]
     },
     "execution_count": 32,
     "metadata": {},
     "output_type": "execute_result"
    }
   ],
   "source": [
    "df['month'].unique()"
   ]
  },
  {
   "cell_type": "code",
   "execution_count": 33,
   "id": "ffe894be",
   "metadata": {},
   "outputs": [
    {
     "data": {
      "text/plain": [
       "(185950, 7)"
      ]
     },
     "execution_count": 33,
     "metadata": {},
     "output_type": "execute_result"
    }
   ],
   "source": [
    "df.shape"
   ]
  },
  {
   "cell_type": "code",
   "execution_count": 34,
   "id": "6a0ed33e",
   "metadata": {},
   "outputs": [],
   "source": [
    "df['month']=df['month'].astype('int64')\n",
    "df['Quantity Ordered']=df['Quantity Ordered'].astype('int64')\n",
    "df['Price Each']=df['Price Each'].astype(float)"
   ]
  },
  {
   "cell_type": "code",
   "execution_count": 35,
   "id": "aafeee47",
   "metadata": {},
   "outputs": [],
   "source": [
    "df['Sales']=df['Price Each']*df['Quantity Ordered']"
   ]
  },
  {
   "cell_type": "code",
   "execution_count": 36,
   "id": "a7400c30",
   "metadata": {},
   "outputs": [
    {
     "data": {
      "text/html": [
       "<div>\n",
       "<style scoped>\n",
       "    .dataframe tbody tr th:only-of-type {\n",
       "        vertical-align: middle;\n",
       "    }\n",
       "\n",
       "    .dataframe tbody tr th {\n",
       "        vertical-align: top;\n",
       "    }\n",
       "\n",
       "    .dataframe thead th {\n",
       "        text-align: right;\n",
       "    }\n",
       "</style>\n",
       "<table border=\"1\" class=\"dataframe\">\n",
       "  <thead>\n",
       "    <tr style=\"text-align: right;\">\n",
       "      <th></th>\n",
       "      <th>Order ID</th>\n",
       "      <th>Product</th>\n",
       "      <th>Quantity Ordered</th>\n",
       "      <th>Price Each</th>\n",
       "      <th>Order Date</th>\n",
       "      <th>Purchase Address</th>\n",
       "      <th>month</th>\n",
       "      <th>Sales</th>\n",
       "    </tr>\n",
       "  </thead>\n",
       "  <tbody>\n",
       "    <tr>\n",
       "      <th>0</th>\n",
       "      <td>248151</td>\n",
       "      <td>AA Batteries (4-pack)</td>\n",
       "      <td>4</td>\n",
       "      <td>3.84</td>\n",
       "      <td>09/17/19 14:44</td>\n",
       "      <td>380 North St, Los Angeles, CA 90001</td>\n",
       "      <td>9</td>\n",
       "      <td>15.36</td>\n",
       "    </tr>\n",
       "    <tr>\n",
       "      <th>1</th>\n",
       "      <td>248152</td>\n",
       "      <td>USB-C Charging Cable</td>\n",
       "      <td>2</td>\n",
       "      <td>11.95</td>\n",
       "      <td>09/29/19 10:19</td>\n",
       "      <td>511 8th St, Austin, TX 73301</td>\n",
       "      <td>9</td>\n",
       "      <td>23.90</td>\n",
       "    </tr>\n",
       "    <tr>\n",
       "      <th>2</th>\n",
       "      <td>248153</td>\n",
       "      <td>USB-C Charging Cable</td>\n",
       "      <td>1</td>\n",
       "      <td>11.95</td>\n",
       "      <td>09/16/19 17:48</td>\n",
       "      <td>151 Johnson St, Los Angeles, CA 90001</td>\n",
       "      <td>9</td>\n",
       "      <td>11.95</td>\n",
       "    </tr>\n",
       "    <tr>\n",
       "      <th>3</th>\n",
       "      <td>248154</td>\n",
       "      <td>27in FHD Monitor</td>\n",
       "      <td>1</td>\n",
       "      <td>149.99</td>\n",
       "      <td>09/27/19 07:52</td>\n",
       "      <td>355 Hickory St, Seattle, WA 98101</td>\n",
       "      <td>9</td>\n",
       "      <td>149.99</td>\n",
       "    </tr>\n",
       "    <tr>\n",
       "      <th>4</th>\n",
       "      <td>248155</td>\n",
       "      <td>USB-C Charging Cable</td>\n",
       "      <td>1</td>\n",
       "      <td>11.95</td>\n",
       "      <td>09/01/19 19:03</td>\n",
       "      <td>125 5th St, Atlanta, GA 30301</td>\n",
       "      <td>9</td>\n",
       "      <td>11.95</td>\n",
       "    </tr>\n",
       "  </tbody>\n",
       "</table>\n",
       "</div>"
      ],
      "text/plain": [
       "  Order ID                Product  Quantity Ordered  Price Each  \\\n",
       "0   248151  AA Batteries (4-pack)                 4        3.84   \n",
       "1   248152   USB-C Charging Cable                 2       11.95   \n",
       "2   248153   USB-C Charging Cable                 1       11.95   \n",
       "3   248154       27in FHD Monitor                 1      149.99   \n",
       "4   248155   USB-C Charging Cable                 1       11.95   \n",
       "\n",
       "       Order Date                       Purchase Address  month   Sales  \n",
       "0  09/17/19 14:44    380 North St, Los Angeles, CA 90001      9   15.36  \n",
       "1  09/29/19 10:19           511 8th St, Austin, TX 73301      9   23.90  \n",
       "2  09/16/19 17:48  151 Johnson St, Los Angeles, CA 90001      9   11.95  \n",
       "3  09/27/19 07:52      355 Hickory St, Seattle, WA 98101      9  149.99  \n",
       "4  09/01/19 19:03          125 5th St, Atlanta, GA 30301      9   11.95  "
      ]
     },
     "execution_count": 36,
     "metadata": {},
     "output_type": "execute_result"
    }
   ],
   "source": [
    "df.head()"
   ]
  },
  {
   "cell_type": "code",
   "execution_count": 37,
   "id": "7bb15029",
   "metadata": {},
   "outputs": [
    {
     "data": {
      "text/plain": [
       "month\n",
       "1     1822256.73\n",
       "2     2202022.42\n",
       "3     2807100.38\n",
       "4     3390670.24\n",
       "5     3152606.75\n",
       "6     2577802.26\n",
       "7     2647775.76\n",
       "8     2244467.88\n",
       "9     2097560.13\n",
       "10    3736726.88\n",
       "11    3199603.20\n",
       "12    4613443.34\n",
       "Name: Sales, dtype: float64"
      ]
     },
     "execution_count": 37,
     "metadata": {},
     "output_type": "execute_result"
    }
   ],
   "source": [
    "df.groupby(['month'])['Sales'].sum()"
   ]
  },
  {
   "cell_type": "code",
   "execution_count": 53,
   "id": "1727c237",
   "metadata": {},
   "outputs": [
    {
     "data": {
      "image/png": "[encoded data removed]",
      "text/plain": [
       "<Figure size 864x576 with 1 Axes>"
      ]
     },
     "metadata": {
      "needs_background": "light"
     },
     "output_type": "display_data"
    }
   ],
   "source": [
    "month=range(1,13)\n",
    "plt.bar(month,df.groupby(['month'])['Sales'].sum())\n",
    "plt.xticks(month)\n",
    "plt.title('Total sales By Month')\n",
    "plt.xlabel('Month')\n",
    "plt.ylabel('Sales')\n",
    "plt.show()"
   ]
  },
  {
   "cell_type": "code",
   "execution_count": 54,
   "id": "0e36d717",
   "metadata": {},
   "outputs": [
    {
     "data": {
      "text/plain": [
       "' Dallas'"
      ]
     },
     "execution_count": 54,
     "metadata": {},
     "output_type": "execute_result"
    }
   ],
   "source": [
    "'917 1st St, Dallas, TX 75001'.split(',')[1]"
   ]
  },
  {
   "cell_type": "code",
   "execution_count": 55,
   "id": "10cf36a1",
   "metadata": {},
   "outputs": [],
   "source": [
    "def city(x):\n",
    "    return x.split(',')[1]"
   ]
  },
  {
   "cell_type": "code",
   "execution_count": 56,
   "id": "2a656618",
   "metadata": {},
   "outputs": [],
   "source": [
    "df['city']=df['Purchase Address'].apply(city)"
   ]
  },
  {
   "cell_type": "code",
   "execution_count": 57,
   "id": "b708f79b",
   "metadata": {},
   "outputs": [
    {
     "data": {
      "text/html": [
       "<div>\n",
       "<style scoped>\n",
       "    .dataframe tbody tr th:only-of-type {\n",
       "        vertical-align: middle;\n",
       "    }\n",
       "\n",
       "    .dataframe tbody tr th {\n",
       "        vertical-align: top;\n",
       "    }\n",
       "\n",
       "    .dataframe thead th {\n",
       "        text-align: right;\n",
       "    }\n",
       "</style>\n",
       "<table border=\"1\" class=\"dataframe\">\n",
       "  <thead>\n",
       "    <tr style=\"text-align: right;\">\n",
       "      <th></th>\n",
       "      <th>Order ID</th>\n",
       "      <th>Product</th>\n",
       "      <th>Quantity Ordered</th>\n",
       "      <th>Price Each</th>\n",
       "      <th>Order Date</th>\n",
       "      <th>Purchase Address</th>\n",
       "      <th>month</th>\n",
       "      <th>Sales</th>\n",
       "      <th>city</th>\n",
       "    </tr>\n",
       "  </thead>\n",
       "  <tbody>\n",
       "    <tr>\n",
       "      <th>0</th>\n",
       "      <td>248151</td>\n",
       "      <td>AA Batteries (4-pack)</td>\n",
       "      <td>4</td>\n",
       "      <td>3.84</td>\n",
       "      <td>09/17/19 14:44</td>\n",
       "      <td>380 North St, Los Angeles, CA 90001</td>\n",
       "      <td>9</td>\n",
       "      <td>15.36</td>\n",
       "      <td>Los Angeles</td>\n",
       "    </tr>\n",
       "    <tr>\n",
       "      <th>1</th>\n",
       "      <td>248152</td>\n",
       "      <td>USB-C Charging Cable</td>\n",
       "      <td>2</td>\n",
       "      <td>11.95</td>\n",
       "      <td>09/29/19 10:19</td>\n",
       "      <td>511 8th St, Austin, TX 73301</td>\n",
       "      <td>9</td>\n",
       "      <td>23.90</td>\n",
       "      <td>Austin</td>\n",
       "    </tr>\n",
       "    <tr>\n",
       "      <th>2</th>\n",
       "      <td>248153</td>\n",
       "      <td>USB-C Charging Cable</td>\n",
       "      <td>1</td>\n",
       "      <td>11.95</td>\n",
       "      <td>09/16/19 17:48</td>\n",
       "      <td>151 Johnson St, Los Angeles, CA 90001</td>\n",
       "      <td>9</td>\n",
       "      <td>11.95</td>\n",
       "      <td>Los Angeles</td>\n",
       "    </tr>\n",
       "    <tr>\n",
       "      <th>3</th>\n",
       "      <td>248154</td>\n",
       "      <td>27in FHD Monitor</td>\n",
       "      <td>1</td>\n",
       "      <td>149.99</td>\n",
       "      <td>09/27/19 07:52</td>\n",
       "      <td>355 Hickory St, Seattle, WA 98101</td>\n",
       "      <td>9</td>\n",
       "      <td>149.99</td>\n",
       "      <td>Seattle</td>\n",
       "    </tr>\n",
       "    <tr>\n",
       "      <th>4</th>\n",
       "      <td>248155</td>\n",
       "      <td>USB-C Charging Cable</td>\n",
       "      <td>1</td>\n",
       "      <td>11.95</td>\n",
       "      <td>09/01/19 19:03</td>\n",
       "      <td>125 5th St, Atlanta, GA 30301</td>\n",
       "      <td>9</td>\n",
       "      <td>11.95</td>\n",
       "      <td>Atlanta</td>\n",
       "    </tr>\n",
       "  </tbody>\n",
       "</table>\n",
       "</div>"
      ],
      "text/plain": [
       "  Order ID                Product  Quantity Ordered  Price Each  \\\n",
       "0   248151  AA Batteries (4-pack)                 4        3.84   \n",
       "1   248152   USB-C Charging Cable                 2       11.95   \n",
       "2   248153   USB-C Charging Cable                 1       11.95   \n",
       "3   248154       27in FHD Monitor                 1      149.99   \n",
       "4   248155   USB-C Charging Cable                 1       11.95   \n",
       "\n",
       "       Order Date                       Purchase Address  month   Sales  \\\n",
       "0  09/17/19 14:44    380 North St, Los Angeles, CA 90001      9   15.36   \n",
       "1  09/29/19 10:19           511 8th St, Austin, TX 73301      9   23.90   \n",
       "2  09/16/19 17:48  151 Johnson St, Los Angeles, CA 90001      9   11.95   \n",
       "3  09/27/19 07:52      355 Hickory St, Seattle, WA 98101      9  149.99   \n",
       "4  09/01/19 19:03          125 5th St, Atlanta, GA 30301      9   11.95   \n",
       "\n",
       "           city  \n",
       "0   Los Angeles  \n",
       "1        Austin  \n",
       "2   Los Angeles  \n",
       "3       Seattle  \n",
       "4       Atlanta  "
      ]
     },
     "execution_count": 57,
     "metadata": {},
     "output_type": "execute_result"
    }
   ],
   "source": [
    "df.head()"
   ]
  },
  {
   "cell_type": "code",
   "execution_count": 59,
   "id": "ca07f122",
   "metadata": {},
   "outputs": [
    {
     "data": {
      "text/plain": [
       "city\n",
       " Atlanta          14881\n",
       " Austin            9905\n",
       " Boston           19934\n",
       " Dallas           14820\n",
       " Los Angeles      29605\n",
       " New York City    24876\n",
       " Portland         12465\n",
       " San Francisco    44732\n",
       " Seattle          14732\n",
       "Name: city, dtype: int64"
      ]
     },
     "execution_count": 59,
     "metadata": {},
     "output_type": "execute_result"
    }
   ],
   "source": [
    "df.groupby('city')['city'].count()"
   ]
  },
  {
   "cell_type": "code",
   "execution_count": 62,
   "id": "2f3e8005",
   "metadata": {},
   "outputs": [
    {
     "data": {
      "text/plain": [
       "<AxesSubplot:xlabel='city'>"
      ]
     },
     "execution_count": 62,
     "metadata": {},
     "output_type": "execute_result"
    },
    {
     "data": {
      "image/png": "[encoded data removed]",
      "text/plain": [
       "<Figure size 864x576 with 1 Axes>"
      ]
     },
     "metadata": {
      "needs_background": "light"
     },
     "output_type": "display_data"
    }
   ],
   "source": [
    "df.groupby('city')['city'].count().plot.bar()"
   ]
  },
  {
   "cell_type": "code",
   "execution_count": null,
   "id": "f286e7a2",
   "metadata": {},
   "outputs": [],
   "source": []
  },
  {
   "cell_type": "code",
   "execution_count": 65,
   "id": "9aea02fb",
   "metadata": {},
   "outputs": [
    {
     "data": {
      "text/plain": [
       "dtype('O')"
      ]
     },
     "execution_count": 65,
     "metadata": {},
     "output_type": "execute_result"
    }
   ],
   "source": [
    "df['Order Date'][0].dtype"
   ]
  },
  {
   "cell_type": "code",
   "execution_count": 66,
   "id": "9b5f2ffc",
   "metadata": {},
   "outputs": [],
   "source": [
    "df['Hour'] = pd.to_datetime(df['Order Date']).dt.hour"
   ]
  },
  {
   "cell_type": "code",
   "execution_count": 68,
   "id": "fa597db5",
   "metadata": {},
   "outputs": [],
   "source": [
    "keys=[]\n",
    "hour=[]\n",
    "for key,hour_df in df.groupby('Hour'):\n",
    "    keys.append(key)\n",
    "    hour.append(len(hour_df))"
   ]
  },
  {
   "cell_type": "code",
   "execution_count": 70,
   "id": "a0dc7788",
   "metadata": {},
   "outputs": [
    {
     "data": {
      "text/plain": [
       "[0,\n",
       " 1,\n",
       " 2,\n",
       " 3,\n",
       " 4,\n",
       " 5,\n",
       " 6,\n",
       " 7,\n",
       " 8,\n",
       " 9,\n",
       " 10,\n",
       " 11,\n",
       " 12,\n",
       " 13,\n",
       " 14,\n",
       " 15,\n",
       " 16,\n",
       " 17,\n",
       " 18,\n",
       " 19,\n",
       " 20,\n",
       " 21,\n",
       " 22,\n",
       " 23]"
      ]
     },
     "execution_count": 70,
     "metadata": {},
     "output_type": "execute_result"
    }
   ],
   "source": [
    "keys"
   ]
  },
  {
   "cell_type": "code",
   "execution_count": 69,
   "id": "cf8657ba",
   "metadata": {},
   "outputs": [
    {
     "data": {
      "text/plain": [
       "[<matplotlib.lines.Line2D at 0x1f9c9ba53a0>]"
      ]
     },
     "execution_count": 69,
     "metadata": {},
     "output_type": "execute_result"
    },
    {
     "data": {
      "image/png": "[encoded data removed]",
      "text/plain": [
       "<Figure size 864x576 with 1 Axes>"
      ]
     },
     "metadata": {
      "needs_background": "light"
     },
     "output_type": "display_data"
    }
   ],
   "source": [
    "plt.grid()\n",
    "plt.plot(keys,hour)"
   ]
  },
  {
   "cell_type": "code",
   "execution_count": 72,
   "id": "a00753ca",
   "metadata": {},
   "outputs": [
    {
     "data": {
      "text/plain": [
       "Product\n",
       "20in Monitor                   4129\n",
       "27in 4K Gaming Monitor         6244\n",
       "27in FHD Monitor               7550\n",
       "34in Ultrawide Monitor         6199\n",
       "AA Batteries (4-pack)         27635\n",
       "AAA Batteries (4-pack)        31017\n",
       "Apple Airpods Headphones      15661\n",
       "Bose SoundSport Headphones    13457\n",
       "Flatscreen TV                  4819\n",
       "Google Phone                   5532\n",
       "LG Dryer                        646\n",
       "LG Washing Machine              666\n",
       "Lightning Charging Cable      23217\n",
       "Macbook Pro Laptop             4728\n",
       "ThinkPad Laptop                4130\n",
       "USB-C Charging Cable          23975\n",
       "Vareebadd Phone                2068\n",
       "Wired Headphones              20557\n",
       "iPhone                         6849\n",
       "Name: Quantity Ordered, dtype: int64"
      ]
     },
     "execution_count": 72,
     "metadata": {},
     "output_type": "execute_result"
    }
   ],
   "source": [
    "df.groupby('Product')['Quantity Ordered'].sum()"
   ]
  },
  {
   "cell_type": "code",
   "execution_count": 73,
   "id": "d3d8cf84",
   "metadata": {},
   "outputs": [
    {
     "data": {
      "text/plain": [
       "<AxesSubplot:xlabel='Product'>"
      ]
     },
     "execution_count": 73,
     "metadata": {},
     "output_type": "execute_result"
    },
    {
     "data": {
      "image/png": "[encoded data removed]",
      "text/plain": [
       "<Figure size 864x576 with 1 Axes>"
      ]
     },
     "metadata": {
      "needs_background": "light"
     },
     "output_type": "display_data"
    }
   ],
   "source": [
    "df.groupby('Product')['Quantity Ordered'].sum().plot.bar()"
   ]
  },
  {
   "cell_type": "code",
   "execution_count": 75,
   "id": "c3cd5f28",
   "metadata": {},
   "outputs": [
    {
     "data": {
      "text/plain": [
       "Product\n",
       "20in Monitor                   109.99\n",
       "27in 4K Gaming Monitor         389.99\n",
       "27in FHD Monitor               149.99\n",
       "34in Ultrawide Monitor         379.99\n",
       "AA Batteries (4-pack)            3.84\n",
       "AAA Batteries (4-pack)           2.99\n",
       "Apple Airpods Headphones       150.00\n",
       "Bose SoundSport Headphones      99.99\n",
       "Flatscreen TV                  300.00\n",
       "Google Phone                   600.00\n",
       "LG Dryer                       600.00\n",
       "LG Washing Machine             600.00\n",
       "Lightning Charging Cable        14.95\n",
       "Macbook Pro Laptop            1700.00\n",
       "ThinkPad Laptop                999.99\n",
       "USB-C Charging Cable            11.95\n",
       "Vareebadd Phone                400.00\n",
       "Wired Headphones                11.99\n",
       "iPhone                         700.00\n",
       "Name: Price Each, dtype: float64"
      ]
     },
     "execution_count": 75,
     "metadata": {},
     "output_type": "execute_result"
    }
   ],
   "source": [
    "df.groupby('Product')['Price Each'].mean()"
   ]
  },
  {
   "cell_type": "code",
   "execution_count": 77,
   "id": "d051253f",
   "metadata": {},
   "outputs": [],
   "source": [
    "products=df.groupby('Product')['Quantity Ordered'].sum().index\n",
    "quantity=df.groupby('Product')['Quantity Ordered'].sum()\n",
    "prices=df.groupby('Product')['Price Each'].mean()"
   ]
  },
  {
   "cell_type": "code",
   "execution_count": 78,
   "id": "cdcfb18d",
   "metadata": {},
   "outputs": [
    {
     "name": "stderr",
     "output_type": "stream",
     "text": [
      "C:\\Users\\DELL\\AppData\\Local\\Temp/ipykernel_2132/538475351.py:5: UserWarning: FixedFormatter should only be used together with FixedLocator\n",
      "  ax1.set_xticklabels(products, rotation='vertical', size=8)\n"
     ]
    },
    {
     "data": {
      "text/plain": [
       "[Text(0, 0, '20in Monitor'),\n",
       " Text(1, 0, '27in 4K Gaming Monitor'),\n",
       " Text(2, 0, '27in FHD Monitor'),\n",
       " Text(3, 0, '34in Ultrawide Monitor'),\n",
       " Text(4, 0, 'AA Batteries (4-pack)'),\n",
       " Text(5, 0, 'AAA Batteries (4-pack)'),\n",
       " Text(6, 0, 'Apple Airpods Headphones'),\n",
       " Text(7, 0, 'Bose SoundSport Headphones'),\n",
       " Text(8, 0, 'Flatscreen TV'),\n",
       " Text(9, 0, 'Google Phone'),\n",
       " Text(10, 0, 'LG Dryer'),\n",
       " Text(11, 0, 'LG Washing Machine'),\n",
       " Text(12, 0, 'Lightning Charging Cable'),\n",
       " Text(13, 0, 'Macbook Pro Laptop'),\n",
       " Text(14, 0, 'ThinkPad Laptop'),\n",
       " Text(15, 0, 'USB-C Charging Cable'),\n",
       " Text(16, 0, 'Vareebadd Phone'),\n",
       " Text(17, 0, 'Wired Headphones'),\n",
       " Text(18, 0, 'iPhone')]"
      ]
     },
     "execution_count": 78,
     "metadata": {},
     "output_type": "execute_result"
    },
    {
     "data": {
      "image/png": "[encoded data removed]",
      "text/plain": [
       "<Figure size 864x576 with 2 Axes>"
      ]
     },
     "metadata": {
      "needs_background": "light"
     },
     "output_type": "display_data"
    }
   ],
   "source": [
    "fig,ax1 = plt.subplots()\n",
    "ax2=ax1.twinx()\n",
    "ax1.bar(products, quantity, color='g')\n",
    "ax2.plot(products, prices, 'b-')\n",
    "ax1.set_xticklabels(products, rotation='vertical', size=8)"
   ]
  },
  {
   "cell_type": "code",
   "execution_count": 90,
   "id": "d1f6909e",
   "metadata": {},
   "outputs": [
    {
     "data": {
      "text/html": [
       "<div>\n",
       "<style scoped>\n",
       "    .dataframe tbody tr th:only-of-type {\n",
       "        vertical-align: middle;\n",
       "    }\n",
       "\n",
       "    .dataframe tbody tr th {\n",
       "        vertical-align: top;\n",
       "    }\n",
       "\n",
       "    .dataframe thead th {\n",
       "        text-align: right;\n",
       "    }\n",
       "</style>\n",
       "<table border=\"1\" class=\"dataframe\">\n",
       "  <thead>\n",
       "    <tr style=\"text-align: right;\">\n",
       "      <th></th>\n",
       "      <th>Order ID</th>\n",
       "      <th>Product</th>\n",
       "      <th>Quantity Ordered</th>\n",
       "      <th>Price Each</th>\n",
       "      <th>Order Date</th>\n",
       "      <th>Purchase Address</th>\n",
       "      <th>month</th>\n",
       "      <th>Sales</th>\n",
       "      <th>city</th>\n",
       "      <th>Hour</th>\n",
       "      <th>Grouped</th>\n",
       "    </tr>\n",
       "  </thead>\n",
       "  <tbody>\n",
       "  </tbody>\n",
       "</table>\n",
       "</div>"
      ],
      "text/plain": [
       "Empty DataFrame\n",
       "Columns: [Order ID, Product, Quantity Ordered, Price Each, Order Date, Purchase Address, month, Sales, city, Hour, Grouped]\n",
       "Index: []"
      ]
     },
     "execution_count": 90,
     "metadata": {},
     "output_type": "execute_result"
    }
   ],
   "source": [
    "df1=df[df['Order ID'].duplicated(keep=False)]\n",
    "df1.head(10)"
   ]
  },
  {
   "cell_type": "code",
   "execution_count": 91,
   "id": "16acb6e4",
   "metadata": {},
   "outputs": [],
   "source": [
    "df1['Grouped'] = df1.groupby('Order ID')['Product'].transform(lambda x: ','.join(x))"
   ]
  },
  {
   "cell_type": "code",
   "execution_count": 92,
   "id": "98e24051",
   "metadata": {},
   "outputs": [
    {
     "data": {
      "text/html": [
       "<div>\n",
       "<style scoped>\n",
       "    .dataframe tbody tr th:only-of-type {\n",
       "        vertical-align: middle;\n",
       "    }\n",
       "\n",
       "    .dataframe tbody tr th {\n",
       "        vertical-align: top;\n",
       "    }\n",
       "\n",
       "    .dataframe thead th {\n",
       "        text-align: right;\n",
       "    }\n",
       "</style>\n",
       "<table border=\"1\" class=\"dataframe\">\n",
       "  <thead>\n",
       "    <tr style=\"text-align: right;\">\n",
       "      <th></th>\n",
       "      <th>Order ID</th>\n",
       "      <th>Product</th>\n",
       "      <th>Quantity Ordered</th>\n",
       "      <th>Price Each</th>\n",
       "      <th>Order Date</th>\n",
       "      <th>Purchase Address</th>\n",
       "      <th>month</th>\n",
       "      <th>Sales</th>\n",
       "      <th>city</th>\n",
       "      <th>Hour</th>\n",
       "      <th>Grouped</th>\n",
       "    </tr>\n",
       "  </thead>\n",
       "  <tbody>\n",
       "    <tr>\n",
       "      <th>20</th>\n",
       "      <td>248171</td>\n",
       "      <td>USB-C Charging Cable</td>\n",
       "      <td>1</td>\n",
       "      <td>11.95</td>\n",
       "      <td>09/05/19 15:06</td>\n",
       "      <td>705 Hill St, New York City, NY 10001</td>\n",
       "      <td>9</td>\n",
       "      <td>11.95</td>\n",
       "      <td>New York City</td>\n",
       "      <td>15</td>\n",
       "      <td>USB-C Charging Cable,USB-C Charging Cable</td>\n",
       "    </tr>\n",
       "    <tr>\n",
       "      <th>60</th>\n",
       "      <td>248210</td>\n",
       "      <td>iPhone</td>\n",
       "      <td>1</td>\n",
       "      <td>700.00</td>\n",
       "      <td>09/27/19 10:33</td>\n",
       "      <td>292 Washington St, San Francisco, CA 94016</td>\n",
       "      <td>9</td>\n",
       "      <td>700.00</td>\n",
       "      <td>San Francisco</td>\n",
       "      <td>10</td>\n",
       "      <td>iPhone,Lightning Charging Cable</td>\n",
       "    </tr>\n",
       "    <tr>\n",
       "      <th>70</th>\n",
       "      <td>248219</td>\n",
       "      <td>Bose SoundSport Headphones</td>\n",
       "      <td>1</td>\n",
       "      <td>99.99</td>\n",
       "      <td>09/24/19 12:48</td>\n",
       "      <td>665 Maple St, Los Angeles, CA 90001</td>\n",
       "      <td>9</td>\n",
       "      <td>99.99</td>\n",
       "      <td>Los Angeles</td>\n",
       "      <td>12</td>\n",
       "      <td>Bose SoundSport Headphones,Google Phone</td>\n",
       "    </tr>\n",
       "    <tr>\n",
       "      <th>117</th>\n",
       "      <td>248265</td>\n",
       "      <td>Vareebadd Phone</td>\n",
       "      <td>1</td>\n",
       "      <td>400.00</td>\n",
       "      <td>09/24/19 14:07</td>\n",
       "      <td>939 14th St, San Francisco, CA 94016</td>\n",
       "      <td>9</td>\n",
       "      <td>400.00</td>\n",
       "      <td>San Francisco</td>\n",
       "      <td>14</td>\n",
       "      <td>Vareebadd Phone,Bose SoundSport Headphones</td>\n",
       "    </tr>\n",
       "    <tr>\n",
       "      <th>176</th>\n",
       "      <td>248323</td>\n",
       "      <td>Google Phone</td>\n",
       "      <td>1</td>\n",
       "      <td>600.00</td>\n",
       "      <td>09/30/19 20:36</td>\n",
       "      <td>725 10th St, Portland, OR 97035</td>\n",
       "      <td>9</td>\n",
       "      <td>600.00</td>\n",
       "      <td>Portland</td>\n",
       "      <td>20</td>\n",
       "      <td>Google Phone,Bose SoundSport Headphones</td>\n",
       "    </tr>\n",
       "  </tbody>\n",
       "</table>\n",
       "</div>"
      ],
      "text/plain": [
       "    Order ID                     Product  Quantity Ordered  Price Each  \\\n",
       "20    248171        USB-C Charging Cable                 1       11.95   \n",
       "60    248210                      iPhone                 1      700.00   \n",
       "70    248219  Bose SoundSport Headphones                 1       99.99   \n",
       "117   248265             Vareebadd Phone                 1      400.00   \n",
       "176   248323                Google Phone                 1      600.00   \n",
       "\n",
       "         Order Date                            Purchase Address  month  \\\n",
       "20   09/05/19 15:06        705 Hill St, New York City, NY 10001      9   \n",
       "60   09/27/19 10:33  292 Washington St, San Francisco, CA 94016      9   \n",
       "70   09/24/19 12:48         665 Maple St, Los Angeles, CA 90001      9   \n",
       "117  09/24/19 14:07        939 14th St, San Francisco, CA 94016      9   \n",
       "176  09/30/19 20:36             725 10th St, Portland, OR 97035      9   \n",
       "\n",
       "      Sales            city  Hour                                     Grouped  \n",
       "20    11.95   New York City    15   USB-C Charging Cable,USB-C Charging Cable  \n",
       "60   700.00   San Francisco    10             iPhone,Lightning Charging Cable  \n",
       "70    99.99     Los Angeles    12     Bose SoundSport Headphones,Google Phone  \n",
       "117  400.00   San Francisco    14  Vareebadd Phone,Bose SoundSport Headphones  \n",
       "176  600.00        Portland    20     Google Phone,Bose SoundSport Headphones  "
      ]
     },
     "execution_count": 92,
     "metadata": {},
     "output_type": "execute_result"
    }
   ],
   "source": [
    "df.head()"
   ]
  },
  {
   "cell_type": "code",
   "execution_count": 86,
   "id": "70e39d11",
   "metadata": {},
   "outputs": [],
   "source": [
    "df= df.drop_duplicates(subset=['Order ID'])"
   ]
  },
  {
   "cell_type": "code",
   "execution_count": 87,
   "id": "54ac3dfd",
   "metadata": {},
   "outputs": [
    {
     "data": {
      "text/html": [
       "<div>\n",
       "<style scoped>\n",
       "    .dataframe tbody tr th:only-of-type {\n",
       "        vertical-align: middle;\n",
       "    }\n",
       "\n",
       "    .dataframe tbody tr th {\n",
       "        vertical-align: top;\n",
       "    }\n",
       "\n",
       "    .dataframe thead th {\n",
       "        text-align: right;\n",
       "    }\n",
       "</style>\n",
       "<table border=\"1\" class=\"dataframe\">\n",
       "  <thead>\n",
       "    <tr style=\"text-align: right;\">\n",
       "      <th></th>\n",
       "      <th>Order ID</th>\n",
       "      <th>Product</th>\n",
       "      <th>Quantity Ordered</th>\n",
       "      <th>Price Each</th>\n",
       "      <th>Order Date</th>\n",
       "      <th>Purchase Address</th>\n",
       "      <th>month</th>\n",
       "      <th>Sales</th>\n",
       "      <th>city</th>\n",
       "      <th>Hour</th>\n",
       "      <th>Grouped</th>\n",
       "    </tr>\n",
       "  </thead>\n",
       "  <tbody>\n",
       "    <tr>\n",
       "      <th>20</th>\n",
       "      <td>248171</td>\n",
       "      <td>USB-C Charging Cable</td>\n",
       "      <td>1</td>\n",
       "      <td>11.95</td>\n",
       "      <td>09/05/19 15:06</td>\n",
       "      <td>705 Hill St, New York City, NY 10001</td>\n",
       "      <td>9</td>\n",
       "      <td>11.95</td>\n",
       "      <td>New York City</td>\n",
       "      <td>15</td>\n",
       "      <td>USB-C Charging Cable,USB-C Charging Cable</td>\n",
       "    </tr>\n",
       "    <tr>\n",
       "      <th>60</th>\n",
       "      <td>248210</td>\n",
       "      <td>iPhone</td>\n",
       "      <td>1</td>\n",
       "      <td>700.00</td>\n",
       "      <td>09/27/19 10:33</td>\n",
       "      <td>292 Washington St, San Francisco, CA 94016</td>\n",
       "      <td>9</td>\n",
       "      <td>700.00</td>\n",
       "      <td>San Francisco</td>\n",
       "      <td>10</td>\n",
       "      <td>iPhone,Lightning Charging Cable</td>\n",
       "    </tr>\n",
       "    <tr>\n",
       "      <th>70</th>\n",
       "      <td>248219</td>\n",
       "      <td>Bose SoundSport Headphones</td>\n",
       "      <td>1</td>\n",
       "      <td>99.99</td>\n",
       "      <td>09/24/19 12:48</td>\n",
       "      <td>665 Maple St, Los Angeles, CA 90001</td>\n",
       "      <td>9</td>\n",
       "      <td>99.99</td>\n",
       "      <td>Los Angeles</td>\n",
       "      <td>12</td>\n",
       "      <td>Bose SoundSport Headphones,Google Phone</td>\n",
       "    </tr>\n",
       "    <tr>\n",
       "      <th>117</th>\n",
       "      <td>248265</td>\n",
       "      <td>Vareebadd Phone</td>\n",
       "      <td>1</td>\n",
       "      <td>400.00</td>\n",
       "      <td>09/24/19 14:07</td>\n",
       "      <td>939 14th St, San Francisco, CA 94016</td>\n",
       "      <td>9</td>\n",
       "      <td>400.00</td>\n",
       "      <td>San Francisco</td>\n",
       "      <td>14</td>\n",
       "      <td>Vareebadd Phone,Bose SoundSport Headphones</td>\n",
       "    </tr>\n",
       "    <tr>\n",
       "      <th>176</th>\n",
       "      <td>248323</td>\n",
       "      <td>Google Phone</td>\n",
       "      <td>1</td>\n",
       "      <td>600.00</td>\n",
       "      <td>09/30/19 20:36</td>\n",
       "      <td>725 10th St, Portland, OR 97035</td>\n",
       "      <td>9</td>\n",
       "      <td>600.00</td>\n",
       "      <td>Portland</td>\n",
       "      <td>20</td>\n",
       "      <td>Google Phone,Bose SoundSport Headphones</td>\n",
       "    </tr>\n",
       "  </tbody>\n",
       "</table>\n",
       "</div>"
      ],
      "text/plain": [
       "    Order ID                     Product  Quantity Ordered  Price Each  \\\n",
       "20    248171        USB-C Charging Cable                 1       11.95   \n",
       "60    248210                      iPhone                 1      700.00   \n",
       "70    248219  Bose SoundSport Headphones                 1       99.99   \n",
       "117   248265             Vareebadd Phone                 1      400.00   \n",
       "176   248323                Google Phone                 1      600.00   \n",
       "\n",
       "         Order Date                            Purchase Address  month  \\\n",
       "20   09/05/19 15:06        705 Hill St, New York City, NY 10001      9   \n",
       "60   09/27/19 10:33  292 Washington St, San Francisco, CA 94016      9   \n",
       "70   09/24/19 12:48         665 Maple St, Los Angeles, CA 90001      9   \n",
       "117  09/24/19 14:07        939 14th St, San Francisco, CA 94016      9   \n",
       "176  09/30/19 20:36             725 10th St, Portland, OR 97035      9   \n",
       "\n",
       "      Sales            city  Hour                                     Grouped  \n",
       "20    11.95   New York City    15   USB-C Charging Cable,USB-C Charging Cable  \n",
       "60   700.00   San Francisco    10             iPhone,Lightning Charging Cable  \n",
       "70    99.99     Los Angeles    12     Bose SoundSport Headphones,Google Phone  \n",
       "117  400.00   San Francisco    14  Vareebadd Phone,Bose SoundSport Headphones  \n",
       "176  600.00        Portland    20     Google Phone,Bose SoundSport Headphones  "
      ]
     },
     "execution_count": 87,
     "metadata": {},
     "output_type": "execute_result"
    }
   ],
   "source": [
    "df.head()"
   ]
  },
  {
   "cell_type": "code",
   "execution_count": 88,
   "id": "4a86c412",
   "metadata": {},
   "outputs": [
    {
     "data": {
      "text/plain": [
       "<AxesSubplot:ylabel='Grouped'>"
      ]
     },
     "execution_count": 88,
     "metadata": {},
     "output_type": "execute_result"
    },
    {
     "data": {
      "image/png": "[encoded data removed]",
      "text/plain": [
       "<Figure size 864x576 with 1 Axes>"
      ]
     },
     "metadata": {},
     "output_type": "display_data"
    }
   ],
   "source": [
    "df['Grouped'].value_counts()[0:5].plot.pie()"
   ]
  },
  {
   "cell_type": "code",
   "execution_count": 89,
   "id": "1cdcef0f",
   "metadata": {},
   "outputs": [
    {
     "data": {
      "text/plain": [
       "(7136, 11)"
      ]
     },
     "execution_count": 89,
     "metadata": {},
     "output_type": "execute_result"
    }
   ],
   "source": [
    "df.shape"
   ]
  },
  {
   "cell_type": "code",
   "execution_count": null,
   "id": "ba6ddbfd",
   "metadata": {},
   "outputs": [],
   "source": []
  }
 ],
 "metadata": {
  "kernelspec": {
   "display_name": "Python 3 (ipykernel)",
   "language": "python",
   "name": "python3"
  },
  "language_info": {
   "codemirror_mode": {
    "name": "ipython",
    "version": 3
   },
   "file_extension": ".py",
   "mimetype": "text/x-python",
   "name": "python",
   "nbconvert_exporter": "python",
   "pygments_lexer": "ipython3",
   "version": "3.9.7"
  }
 },
 "nbformat": 4,
 "nbformat_minor": 5
}
